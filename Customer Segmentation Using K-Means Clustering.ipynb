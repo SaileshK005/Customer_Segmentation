{
 "cells": [
  {
   "cell_type": "code",
   "execution_count": null,
   "id": "aea219f1",
   "metadata": {},
   "outputs": [],
   "source": [
    "import pandas as pd\n",
    "import numpy as np\n",
    "from sklearn.preprocessing import StandardScaler\n",
    "from sklearn.cluster import KMeans\n",
    "import matplotlib.pyplot as plt\n",
    "import seaborn as sns\n",
    "\n",
    "# Load the dataset\n",
    "file_path = '/Users/saileshkumarm/Downloads/customer_data.csv'\n",
    "data = pd.read_csv(file_path, delimiter='\\t')\n",
    "\n",
    "# Display basic information about the dataset\n",
    "print(data.info())\n",
    "print(data.head())\n",
    "\n",
    "# Handle missing values\n",
    "data['Income'].fillna(data['Income'].median(), inplace=True)\n",
    "\n",
    "# Convert Dt_Customer to datetime\n",
    "data['Dt_Customer'] = pd.to_datetime(data['Dt_Customer'], dayfirst=True)\n",
    "\n",
    "# Drop columns not needed for clustering\n",
    "data_clustering = data.drop(columns=['ID', 'Dt_Customer', 'Z_CostContact', 'Z_Revenue'])\n",
    "\n",
    "# Encode categorical variables\n",
    "data_clustering = pd.get_dummies(data_clustering, drop_first=True)\n",
    "\n",
    "# Scale the data\n",
    "scaler = StandardScaler()\n",
    "data_scaled = scaler.fit_transform(data_clustering)\n",
    "\n",
    "# Apply K-Means clustering\n",
    "kmeans = KMeans(n_clusters=5, random_state=42)\n",
    "clusters = kmeans.fit_predict(data_scaled)\n",
    "\n",
    "# Add the cluster labels to the original data\n",
    "data['Cluster'] = clusters\n",
    "\n",
    "# Visualize the clusters\n",
    "plt.figure(figsize=(10, 6))\n",
    "sns.scatterplot(x='Income', y='MntWines', hue='Cluster', data=data, palette='viridis')\n",
    "plt.title('Customer Segments')\n",
    "plt.xlabel('Income')\n",
    "plt.ylabel('Wine Purchases')\n",
    "plt.legend(title='Cluster')\n",
    "plt.show()\n"
   ]
  }
 ],
 "metadata": {
  "kernelspec": {
   "display_name": "Python 3 (ipykernel)",
   "language": "python",
   "name": "python3"
  },
  "language_info": {
   "codemirror_mode": {
    "name": "ipython",
    "version": 3
   },
   "file_extension": ".py",
   "mimetype": "text/x-python",
   "name": "python",
   "nbconvert_exporter": "python",
   "pygments_lexer": "ipython3",
   "version": "3.11.5"
  }
 },
 "nbformat": 4,
 "nbformat_minor": 5
}
